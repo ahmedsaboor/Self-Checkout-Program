{
 "cells": [
  {
   "cell_type": "markdown",
   "metadata": {},
   "source": [
    "# Assignment 3"
   ]
  },
  {
   "cell_type": "code",
   "execution_count": null,
   "metadata": {},
   "outputs": [
    {
     "name": "stdin",
     "output_type": "stream",
     "text": [
      "Are You Using Express or Regular Checkout? Regular\n",
      "What is the item? 1\n",
      "What is the price? 2\n",
      "Would you like to enter another item? N\n"
     ]
    },
    {
     "name": "stdout",
     "output_type": "stream",
     "text": [
      "1 -2.0\n",
      "\n",
      "Total - 2.0\n"
     ]
    }
   ],
   "source": [
    "checkout =input(\"Are You Using Express or Regular Checkout?\")\n",
    "if checkout== \"Regular\":\n",
    "    items=''\n",
    "    total=0.0\n",
    "    answer='Y'\n",
    "    count=1\n",
    "    \n",
    "    while answer=='Y'and count >0:\n",
    "        item = input(\"What is the item?\")\n",
    "        price = float(input(\"What is the price?\"))\n",
    "        \n",
    "        items = item +\" -\"+str(price)+\"\\n\"\n",
    "        total += price\n",
    "        \n",
    "        count = count+1\n",
    "        answer = input(\"Would you like to enter another item?\")\n",
    "        \n",
    "    print(items)\n",
    "    print(\"Total -\", total)\n",
    "\n",
    "if checkout== \"Express\":\n",
    "    items=''\n",
    "    total=0.0\n",
    "    answer='Y'\n",
    "    count=1\n",
    "    \n",
    "    while answer=='Y' and count <=5:\n",
    "        item = input(\"What is the item?\")\n",
    "        price = float(input(\"What is the price?\"))\n",
    "        \n",
    "        items = item +\" -\"+str(price)+\"\\n\"\n",
    "        total += price\n",
    "        \n",
    "        count = count+1\n",
    "        answer = input(\"Would you like to enter another item?\")\n",
    "        \n",
    "    print(items)\n",
    "    print(\"Total -\", total)\n",
    "    \n",
    "Payment = input(\"Would You Like To Pay By Cash or Credit Card?\")\n",
    "if Payment == (\"Cash\"):\n",
    "    Payment= float(input(\"Enter Amount of Cash\"))\n",
    "    if Payment > total:\n",
    "        print(\"Your Payment-\", Payment)\n",
    "        print(\"Your Change-\", Payment - total)\n",
    "        print(\"Thank You For Your Purchase\")\n",
    "    if Payment < total:\n",
    "        print(total - Payment)\n",
    "        input(\"Please Enter Remaining Balance\")\n",
    "        print(\"Thank You For Your Purchase\")\n",
    "    if Payment == total:\n",
    "        print(\"Charged-\", total)\n",
    "        print(\"Thank You For Your Purchase\")\n",
    "    \n",
    "    \n",
    "if Payment==(\"Credit Card\"):\n",
    "        print(\"Charged-$\", total)\n",
    "        print(\"Thank You For Your Purchase\")\n",
    "    \n",
    "    "
   ]
  },
  {
   "cell_type": "code",
   "execution_count": null,
   "metadata": {},
   "outputs": [],
   "source": [
    "{\n",
    "        // Make your calculation\n",
    "        cout << \"Would you like to Enter Another Value?(Y/N)\" << endl;\n",
    "        cin >> choice;\n",
    "        answer = 'Y'\n",
    "        if (choice == 'Y')\n",
    "            while\n",
    "            \n",
    "        if (choice == 'N' || choice == 'n')\n",
    "            run = false;\n",
    "   \n",
    "      \n",
    "    }\n",
    "    cout << choice;\n",
    "    return 0;\n",
    "}"
   ]
  }
 ],
 "metadata": {
  "kernelspec": {
   "display_name": "Python 3",
   "language": "python",
   "name": "python3"
  },
  "language_info": {
   "codemirror_mode": {
    "name": "ipython",
    "version": 3
   },
   "file_extension": ".py",
   "mimetype": "text/x-python",
   "name": "python",
   "nbconvert_exporter": "python",
   "pygments_lexer": "ipython3",
   "version": "3.8.3"
  }
 },
 "nbformat": 4,
 "nbformat_minor": 4
}
